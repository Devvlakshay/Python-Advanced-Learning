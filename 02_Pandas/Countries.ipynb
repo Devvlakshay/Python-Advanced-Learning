{
 "cells": [
  {
   "cell_type": "code",
   "execution_count": 8,
   "id": "31e7911e",
   "metadata": {},
   "outputs": [],
   "source": [
    "import numpy as np\n",
    "import pandas as pd"
   ]
  },
  {
   "cell_type": "code",
   "execution_count": 9,
   "id": "957c4fd4",
   "metadata": {},
   "outputs": [],
   "source": [
    "df = pd.read_csv('Countries.csv')"
   ]
  },
  {
   "cell_type": "code",
   "execution_count": 10,
   "id": "06990e71",
   "metadata": {},
   "outputs": [
    {
     "data": {
      "text/html": [
       "<div>\n",
       "<style scoped>\n",
       "    .dataframe tbody tr th:only-of-type {\n",
       "        vertical-align: middle;\n",
       "    }\n",
       "\n",
       "    .dataframe tbody tr th {\n",
       "        vertical-align: top;\n",
       "    }\n",
       "\n",
       "    .dataframe thead th {\n",
       "        text-align: right;\n",
       "    }\n",
       "</style>\n",
       "<table border=\"1\" class=\"dataframe\">\n",
       "  <thead>\n",
       "    <tr style=\"text-align: right;\">\n",
       "      <th></th>\n",
       "      <th>country</th>\n",
       "      <th>country_long</th>\n",
       "      <th>currency</th>\n",
       "      <th>capital_city</th>\n",
       "      <th>region</th>\n",
       "      <th>continent</th>\n",
       "      <th>demonym</th>\n",
       "      <th>latitude</th>\n",
       "      <th>longitude</th>\n",
       "      <th>agricultural_land</th>\n",
       "      <th>...</th>\n",
       "      <th>population</th>\n",
       "      <th>women_parliament_seats_pct</th>\n",
       "      <th>rural_population</th>\n",
       "      <th>urban_population</th>\n",
       "      <th>press</th>\n",
       "      <th>democracy_score</th>\n",
       "      <th>democracy_type</th>\n",
       "      <th>median_age</th>\n",
       "      <th>political_leader</th>\n",
       "      <th>title</th>\n",
       "    </tr>\n",
       "  </thead>\n",
       "  <tbody>\n",
       "    <tr>\n",
       "      <th>0</th>\n",
       "      <td>Afghanistan</td>\n",
       "      <td>Islamic State of Afghanistan</td>\n",
       "      <td>Afghan afghani</td>\n",
       "      <td>Kabul</td>\n",
       "      <td>Southern Asia</td>\n",
       "      <td>Asia</td>\n",
       "      <td>Afghan</td>\n",
       "      <td>33.0</td>\n",
       "      <td>65.0</td>\n",
       "      <td>383560.0</td>\n",
       "      <td>...</td>\n",
       "      <td>41128771</td>\n",
       "      <td>27.01610</td>\n",
       "      <td>30181937</td>\n",
       "      <td>10946834</td>\n",
       "      <td>2.14</td>\n",
       "      <td>2.97</td>\n",
       "      <td>Authoritarian</td>\n",
       "      <td>12.9</td>\n",
       "      <td>Ashraf Ghani</td>\n",
       "      <td>President</td>\n",
       "    </tr>\n",
       "    <tr>\n",
       "      <th>1</th>\n",
       "      <td>Albania</td>\n",
       "      <td>Republic of Albania</td>\n",
       "      <td>Albanian lek</td>\n",
       "      <td>Tirana</td>\n",
       "      <td>Southern Europe</td>\n",
       "      <td>Europe</td>\n",
       "      <td>Albanian</td>\n",
       "      <td>41.0</td>\n",
       "      <td>20.0</td>\n",
       "      <td>11655.5</td>\n",
       "      <td>...</td>\n",
       "      <td>2775634</td>\n",
       "      <td>35.71430</td>\n",
       "      <td>1004807</td>\n",
       "      <td>1770827</td>\n",
       "      <td>2.62</td>\n",
       "      <td>5.98</td>\n",
       "      <td>Hybrid regime</td>\n",
       "      <td>33.7</td>\n",
       "      <td>Edi Rama</td>\n",
       "      <td>Prime Minister</td>\n",
       "    </tr>\n",
       "    <tr>\n",
       "      <th>2</th>\n",
       "      <td>Algeria</td>\n",
       "      <td>People's Democratic Republic of Algeria</td>\n",
       "      <td>Algerian dinar</td>\n",
       "      <td>Algiers</td>\n",
       "      <td>Northern Africa</td>\n",
       "      <td>Africa</td>\n",
       "      <td>Algerian</td>\n",
       "      <td>28.0</td>\n",
       "      <td>3.0</td>\n",
       "      <td>413588.0</td>\n",
       "      <td>...</td>\n",
       "      <td>44903225</td>\n",
       "      <td>8.10811</td>\n",
       "      <td>11328186</td>\n",
       "      <td>33575039</td>\n",
       "      <td>1.71</td>\n",
       "      <td>3.50</td>\n",
       "      <td>Authoritarian</td>\n",
       "      <td>24.0</td>\n",
       "      <td>Abdelmadjid Tebboune</td>\n",
       "      <td>President</td>\n",
       "    </tr>\n",
       "    <tr>\n",
       "      <th>3</th>\n",
       "      <td>Andorra</td>\n",
       "      <td>Principality of Andorra</td>\n",
       "      <td>Euro</td>\n",
       "      <td>Andorra la Vella</td>\n",
       "      <td>Southern Europe</td>\n",
       "      <td>Europe</td>\n",
       "      <td>Andorran</td>\n",
       "      <td>42.5</td>\n",
       "      <td>1.5</td>\n",
       "      <td>187.2</td>\n",
       "      <td>...</td>\n",
       "      <td>79824</td>\n",
       "      <td>46.42860</td>\n",
       "      <td>9730</td>\n",
       "      <td>70094</td>\n",
       "      <td>3.17</td>\n",
       "      <td>0.00</td>\n",
       "      <td>Unknown</td>\n",
       "      <td>38.9</td>\n",
       "      <td>Xavier Espot Zamora</td>\n",
       "      <td>Head of Government</td>\n",
       "    </tr>\n",
       "    <tr>\n",
       "      <th>4</th>\n",
       "      <td>Angola</td>\n",
       "      <td>People's Republic of Angola</td>\n",
       "      <td>Angolan kwanza</td>\n",
       "      <td>Luanda</td>\n",
       "      <td>Middle Africa</td>\n",
       "      <td>Africa</td>\n",
       "      <td>Angolan</td>\n",
       "      <td>-12.5</td>\n",
       "      <td>18.5</td>\n",
       "      <td>569525.0</td>\n",
       "      <td>...</td>\n",
       "      <td>35588987</td>\n",
       "      <td>33.63640</td>\n",
       "      <td>11359649</td>\n",
       "      <td>24229338</td>\n",
       "      <td>2.24</td>\n",
       "      <td>3.62</td>\n",
       "      <td>Authoritarian</td>\n",
       "      <td>12.4</td>\n",
       "      <td>João Lourenço</td>\n",
       "      <td>President</td>\n",
       "    </tr>\n",
       "  </tbody>\n",
       "</table>\n",
       "<p>5 rows × 64 columns</p>\n",
       "</div>"
      ],
      "text/plain": [
       "       country                             country_long        currency  \\\n",
       "0  Afghanistan             Islamic State of Afghanistan  Afghan afghani   \n",
       "1      Albania                      Republic of Albania    Albanian lek   \n",
       "2      Algeria  People's Democratic Republic of Algeria  Algerian dinar   \n",
       "3      Andorra                  Principality of Andorra            Euro   \n",
       "4       Angola              People's Republic of Angola  Angolan kwanza   \n",
       "\n",
       "       capital_city           region continent   demonym  latitude  longitude  \\\n",
       "0             Kabul    Southern Asia      Asia    Afghan      33.0       65.0   \n",
       "1            Tirana  Southern Europe    Europe  Albanian      41.0       20.0   \n",
       "2           Algiers  Northern Africa    Africa  Algerian      28.0        3.0   \n",
       "3  Andorra la Vella  Southern Europe    Europe  Andorran      42.5        1.5   \n",
       "4            Luanda    Middle Africa    Africa   Angolan     -12.5       18.5   \n",
       "\n",
       "   agricultural_land  ...  population  women_parliament_seats_pct  \\\n",
       "0           383560.0  ...    41128771                    27.01610   \n",
       "1            11655.5  ...     2775634                    35.71430   \n",
       "2           413588.0  ...    44903225                     8.10811   \n",
       "3              187.2  ...       79824                    46.42860   \n",
       "4           569525.0  ...    35588987                    33.63640   \n",
       "\n",
       "   rural_population  urban_population  press  democracy_score  democracy_type  \\\n",
       "0          30181937          10946834   2.14             2.97   Authoritarian   \n",
       "1           1004807           1770827   2.62             5.98   Hybrid regime   \n",
       "2          11328186          33575039   1.71             3.50   Authoritarian   \n",
       "3              9730             70094   3.17             0.00         Unknown   \n",
       "4          11359649          24229338   2.24             3.62   Authoritarian   \n",
       "\n",
       "   median_age      political_leader               title  \n",
       "0        12.9          Ashraf Ghani           President  \n",
       "1        33.7              Edi Rama      Prime Minister  \n",
       "2        24.0  Abdelmadjid Tebboune           President  \n",
       "3        38.9   Xavier Espot Zamora  Head of Government  \n",
       "4        12.4         João Lourenço           President  \n",
       "\n",
       "[5 rows x 64 columns]"
      ]
     },
     "execution_count": 10,
     "metadata": {},
     "output_type": "execute_result"
    }
   ],
   "source": [
    "df.head()"
   ]
  },
  {
   "cell_type": "code",
   "execution_count": 13,
   "id": "3500e3b2",
   "metadata": {},
   "outputs": [
    {
     "data": {
      "text/plain": [
       "(194, 64)"
      ]
     },
     "execution_count": 13,
     "metadata": {},
     "output_type": "execute_result"
    }
   ],
   "source": [
    "#data preproces\n",
    "df.shape"
   ]
  },
  {
   "cell_type": "code",
   "execution_count": 14,
   "id": "39f58e6a",
   "metadata": {},
   "outputs": [
    {
     "data": {
      "text/plain": [
       "<bound method DataFrame.info of                 country                             country_long  \\\n",
       "0           Afghanistan             Islamic State of Afghanistan   \n",
       "1               Albania                      Republic of Albania   \n",
       "2               Algeria  People's Democratic Republic of Algeria   \n",
       "3               Andorra                  Principality of Andorra   \n",
       "4                Angola              People's Republic of Angola   \n",
       "..                  ...                                      ...   \n",
       "189             Vietnam            Socialist Republic of Vietnam   \n",
       "190  West Bank and Gaza                       West Bank and Gaza   \n",
       "191               Yemen                        Republic of Yemen   \n",
       "192              Zambia                       Republic of Zambia   \n",
       "193            Zimbabwe                     Republic of Zimbabwe   \n",
       "\n",
       "               currency      capital_city              region continent  \\\n",
       "0        Afghan afghani             Kabul       Southern Asia      Asia   \n",
       "1          Albanian lek            Tirana     Southern Europe    Europe   \n",
       "2        Algerian dinar           Algiers     Northern Africa    Africa   \n",
       "3                  Euro  Andorra la Vella     Southern Europe    Europe   \n",
       "4        Angolan kwanza            Luanda       Middle Africa    Africa   \n",
       "..                  ...               ...                 ...       ...   \n",
       "189     Vietnamese dong             Hanoi  South-Eastern Asia      Asia   \n",
       "190  Israeli new shekel          Ramallah        Western Asia      Asia   \n",
       "191         Yemeni rial            Sana'a        Western Asia      Asia   \n",
       "192  New Zambian kwacha            Lusaka      Eastern Africa    Africa   \n",
       "193         U.S. dollar            Harare      Eastern Africa    Africa   \n",
       "\n",
       "         demonym   latitude   longitude  agricultural_land  ...  population  \\\n",
       "0         Afghan  33.000000   65.000000           383560.0  ...    41128771   \n",
       "1       Albanian  41.000000   20.000000            11655.5  ...     2775634   \n",
       "2       Algerian  28.000000    3.000000           413588.0  ...    44903225   \n",
       "3       Andorran  42.500000    1.500000              187.2  ...       79824   \n",
       "4        Angolan -12.500000   18.500000           569525.0  ...    35588987   \n",
       "..           ...        ...         ...                ...  ...         ...   \n",
       "189   Vietnamese  16.166667  107.833333           123600.0  ...    98186856   \n",
       "190  Palestinian  31.900000   35.200000             4449.0  ...     5043612   \n",
       "191       Yemeni  15.000000   48.000000           234520.0  ...    33696614   \n",
       "192      Zambian -15.000000   30.000000           238360.0  ...    20017675   \n",
       "193   Zimbabwean -20.000000   30.000000           162000.0  ...    16320537   \n",
       "\n",
       "     women_parliament_seats_pct  rural_population  urban_population  press  \\\n",
       "0                      27.01610          30181937          10946834   2.14   \n",
       "1                      35.71430           1004807           1770827   2.62   \n",
       "2                       8.10811          11328186          33575039   1.71   \n",
       "3                      46.42860              9730             70094   3.17   \n",
       "4                      33.63640          11359649          24229338   2.24   \n",
       "..                          ...               ...               ...    ...   \n",
       "189                    30.26050          60123739          38063117   1.04   \n",
       "190                         NaN           1145354           3898258   1.75   \n",
       "191                     0.00000          20491585          13205029   1.27   \n",
       "192                    15.06020          10857387           9160288   2.15   \n",
       "193                    30.56600          11033499           5287038   1.85   \n",
       "\n",
       "     democracy_score  democracy_type  median_age       political_leader  \\\n",
       "0               2.97   Authoritarian        12.9           Ashraf Ghani   \n",
       "1               5.98   Hybrid regime        33.7               Edi Rama   \n",
       "2               3.50   Authoritarian        24.0   Abdelmadjid Tebboune   \n",
       "3               0.00         Unknown        38.9    Xavier Espot Zamora   \n",
       "4               3.62   Authoritarian        12.4          João Lourenço   \n",
       "..               ...             ...         ...                    ...   \n",
       "189             3.08   Authoritarian        28.4       Nguyễn Phú Trọng   \n",
       "190             4.39   Hybrid regime        15.4                    NaN   \n",
       "191             1.95   Authoritarian        14.8  Abdrabbuh Mansur Hadi   \n",
       "192             5.61   Hybrid regime        13.2            Edgar Lungu   \n",
       "193             3.16   Authoritarian        14.2     Emmerson Mnangagwa   \n",
       "\n",
       "                                        title  \n",
       "0                                   President  \n",
       "1                              Prime Minister  \n",
       "2                                   President  \n",
       "3                          Head of Government  \n",
       "4                                   President  \n",
       "..                                        ...  \n",
       "189  General Secretary of the Communist Party  \n",
       "190                                       NaN  \n",
       "191                                 President  \n",
       "192                                 President  \n",
       "193                                 President  \n",
       "\n",
       "[194 rows x 64 columns]>"
      ]
     },
     "execution_count": 14,
     "metadata": {},
     "output_type": "execute_result"
    }
   ],
   "source": [
    "df.info"
   ]
  },
  {
   "cell_type": "code",
   "execution_count": 15,
   "id": "1c224f64",
   "metadata": {},
   "outputs": [
    {
     "data": {
      "text/plain": [
       "<bound method NDFrame.describe of                 country                             country_long  \\\n",
       "0           Afghanistan             Islamic State of Afghanistan   \n",
       "1               Albania                      Republic of Albania   \n",
       "2               Algeria  People's Democratic Republic of Algeria   \n",
       "3               Andorra                  Principality of Andorra   \n",
       "4                Angola              People's Republic of Angola   \n",
       "..                  ...                                      ...   \n",
       "189             Vietnam            Socialist Republic of Vietnam   \n",
       "190  West Bank and Gaza                       West Bank and Gaza   \n",
       "191               Yemen                        Republic of Yemen   \n",
       "192              Zambia                       Republic of Zambia   \n",
       "193            Zimbabwe                     Republic of Zimbabwe   \n",
       "\n",
       "               currency      capital_city              region continent  \\\n",
       "0        Afghan afghani             Kabul       Southern Asia      Asia   \n",
       "1          Albanian lek            Tirana     Southern Europe    Europe   \n",
       "2        Algerian dinar           Algiers     Northern Africa    Africa   \n",
       "3                  Euro  Andorra la Vella     Southern Europe    Europe   \n",
       "4        Angolan kwanza            Luanda       Middle Africa    Africa   \n",
       "..                  ...               ...                 ...       ...   \n",
       "189     Vietnamese dong             Hanoi  South-Eastern Asia      Asia   \n",
       "190  Israeli new shekel          Ramallah        Western Asia      Asia   \n",
       "191         Yemeni rial            Sana'a        Western Asia      Asia   \n",
       "192  New Zambian kwacha            Lusaka      Eastern Africa    Africa   \n",
       "193         U.S. dollar            Harare      Eastern Africa    Africa   \n",
       "\n",
       "         demonym   latitude   longitude  agricultural_land  ...  population  \\\n",
       "0         Afghan  33.000000   65.000000           383560.0  ...    41128771   \n",
       "1       Albanian  41.000000   20.000000            11655.5  ...     2775634   \n",
       "2       Algerian  28.000000    3.000000           413588.0  ...    44903225   \n",
       "3       Andorran  42.500000    1.500000              187.2  ...       79824   \n",
       "4        Angolan -12.500000   18.500000           569525.0  ...    35588987   \n",
       "..           ...        ...         ...                ...  ...         ...   \n",
       "189   Vietnamese  16.166667  107.833333           123600.0  ...    98186856   \n",
       "190  Palestinian  31.900000   35.200000             4449.0  ...     5043612   \n",
       "191       Yemeni  15.000000   48.000000           234520.0  ...    33696614   \n",
       "192      Zambian -15.000000   30.000000           238360.0  ...    20017675   \n",
       "193   Zimbabwean -20.000000   30.000000           162000.0  ...    16320537   \n",
       "\n",
       "     women_parliament_seats_pct  rural_population  urban_population  press  \\\n",
       "0                      27.01610          30181937          10946834   2.14   \n",
       "1                      35.71430           1004807           1770827   2.62   \n",
       "2                       8.10811          11328186          33575039   1.71   \n",
       "3                      46.42860              9730             70094   3.17   \n",
       "4                      33.63640          11359649          24229338   2.24   \n",
       "..                          ...               ...               ...    ...   \n",
       "189                    30.26050          60123739          38063117   1.04   \n",
       "190                         NaN           1145354           3898258   1.75   \n",
       "191                     0.00000          20491585          13205029   1.27   \n",
       "192                    15.06020          10857387           9160288   2.15   \n",
       "193                    30.56600          11033499           5287038   1.85   \n",
       "\n",
       "     democracy_score  democracy_type  median_age       political_leader  \\\n",
       "0               2.97   Authoritarian        12.9           Ashraf Ghani   \n",
       "1               5.98   Hybrid regime        33.7               Edi Rama   \n",
       "2               3.50   Authoritarian        24.0   Abdelmadjid Tebboune   \n",
       "3               0.00         Unknown        38.9    Xavier Espot Zamora   \n",
       "4               3.62   Authoritarian        12.4          João Lourenço   \n",
       "..               ...             ...         ...                    ...   \n",
       "189             3.08   Authoritarian        28.4       Nguyễn Phú Trọng   \n",
       "190             4.39   Hybrid regime        15.4                    NaN   \n",
       "191             1.95   Authoritarian        14.8  Abdrabbuh Mansur Hadi   \n",
       "192             5.61   Hybrid regime        13.2            Edgar Lungu   \n",
       "193             3.16   Authoritarian        14.2     Emmerson Mnangagwa   \n",
       "\n",
       "                                        title  \n",
       "0                                   President  \n",
       "1                              Prime Minister  \n",
       "2                                   President  \n",
       "3                          Head of Government  \n",
       "4                                   President  \n",
       "..                                        ...  \n",
       "189  General Secretary of the Communist Party  \n",
       "190                                       NaN  \n",
       "191                                 President  \n",
       "192                                 President  \n",
       "193                                 President  \n",
       "\n",
       "[194 rows x 64 columns]>"
      ]
     },
     "execution_count": 15,
     "metadata": {},
     "output_type": "execute_result"
    }
   ],
   "source": [
    "df.describe"
   ]
  },
  {
   "cell_type": "code",
   "execution_count": 17,
   "id": "ac380d79",
   "metadata": {},
   "outputs": [
    {
     "data": {
      "text/plain": [
       "75    India\n",
       "Name: country, dtype: object"
      ]
     },
     "execution_count": 17,
     "metadata": {},
     "output_type": "execute_result"
    }
   ],
   "source": [
    "#which country has the highest population\n",
    "df[df['population'] == df['population'].max()]['country']"
   ]
  },
  {
   "cell_type": "code",
   "execution_count": 20,
   "id": "ed02960e",
   "metadata": {},
   "outputs": [
    {
     "data": {
      "text/plain": [
       "75    New Delhi\n",
       "Name: capital_city, dtype: object"
      ]
     },
     "execution_count": 20,
     "metadata": {},
     "output_type": "execute_result"
    }
   ],
   "source": [
    "#What is the capital of country with highest population\n",
    "df[df['population'] == df['population'].max()]['capital_city']"
   ]
  },
  {
   "cell_type": "code",
   "execution_count": 23,
   "id": "374134d3",
   "metadata": {},
   "outputs": [
    {
     "data": {
      "text/plain": [
       "179    Tuvalu\n",
       "Name: country, dtype: object"
      ]
     },
     "execution_count": 23,
     "metadata": {},
     "output_type": "execute_result"
    }
   ],
   "source": [
    "#Which country has the leasst population\n",
    "df[df['population'] == df['population'].min()]['country']\n"
   ]
  },
  {
   "cell_type": "code",
   "execution_count": 24,
   "id": "06536e94",
   "metadata": {},
   "outputs": [
    {
     "data": {
      "text/plain": [
       "179    Funafuti\n",
       "Name: capital_city, dtype: object"
      ]
     },
     "execution_count": 24,
     "metadata": {},
     "output_type": "execute_result"
    }
   ],
   "source": [
    "#What is the capital of country with least population\n",
    "df[df['population'] == df['population'].min()]['capital_city']"
   ]
  },
  {
   "cell_type": "code",
   "execution_count": 25,
   "id": "018557b4",
   "metadata": {},
   "outputs": [],
   "source": [
    "#Give me top5 country with highest democratic score\n",
    "df.sort_values(by = 'democracy_score', ascending=False, inplace=True)\n",
    "\n",
    "\n"
   ]
  },
  {
   "cell_type": "code",
   "execution_count": 28,
   "id": "3c1a4258",
   "metadata": {},
   "outputs": [
    {
     "data": {
      "text/plain": [
       "127         Norway\n",
       "74         Iceland\n",
       "164         Sweden\n",
       "122    New Zealand\n",
       "46         Denmark\n",
       "Name: country, dtype: object"
      ]
     },
     "execution_count": 28,
     "metadata": {},
     "output_type": "execute_result"
    }
   ],
   "source": [
    "df['country'].head()"
   ]
  },
  {
   "cell_type": "code",
   "execution_count": 31,
   "id": "2d1034b7",
   "metadata": {},
   "outputs": [
    {
     "data": {
      "text/plain": [
       "22"
      ]
     },
     "execution_count": 31,
     "metadata": {},
     "output_type": "execute_result"
    }
   ],
   "source": [
    "#How many total regions are there\n",
    "\n",
    "df['region'].value_counts().count()"
   ]
  },
  {
   "cell_type": "code",
   "execution_count": 35,
   "id": "a110af69",
   "metadata": {},
   "outputs": [
    {
     "data": {
      "text/plain": [
       "10"
      ]
     },
     "execution_count": 35,
     "metadata": {},
     "output_type": "execute_result"
    }
   ],
   "source": [
    "#How many country lies in Eastern Europe region\n",
    "#also name them\n",
    "df['region'].value_counts()['Eastern Europe']\n",
    "\n"
   ]
  },
  {
   "cell_type": "code",
   "execution_count": 36,
   "id": "2ce23df6",
   "metadata": {},
   "outputs": [
    {
     "data": {
      "text/plain": [
       "43      Czech Republic\n",
       "151    Slovak Republic\n",
       "24            Bulgaria\n",
       "136             Poland\n",
       "73             Hungary\n",
       "139            Romania\n",
       "111            Moldova\n",
       "181            Ukraine\n",
       "14             Belarus\n",
       "140             Russia\n",
       "Name: country, dtype: object"
      ]
     },
     "execution_count": 36,
     "metadata": {},
     "output_type": "execute_result"
    }
   ],
   "source": [
    "df[df['region'] == 'Eastern Europe']['country']"
   ]
  },
  {
   "cell_type": "code",
   "execution_count": 42,
   "id": "4720c4dc",
   "metadata": {},
   "outputs": [
    {
     "data": {
      "text/plain": [
       "34    Xi Jinping\n",
       "Name: political_leader, dtype: object"
      ]
     },
     "execution_count": 42,
     "metadata": {},
     "output_type": "execute_result"
    }
   ],
   "source": [
    "#Who is the political leader of 2nd highest populated country\n",
    "\n",
    "df[df['population'] == df['population'].nlargest(2).iloc[1]]['political_leader']"
   ]
  },
  {
   "cell_type": "code",
   "execution_count": 46,
   "id": "6de57b8a",
   "metadata": {},
   "outputs": [
    {
     "data": {
      "text/plain": [
       "7"
      ]
     },
     "execution_count": 46,
     "metadata": {},
     "output_type": "execute_result"
    }
   ],
   "source": [
    "#How many countries are there whose political leader are unknown\n",
    "df[df['political_leader'].isna()]['country'].count()\n",
    "\n"
   ]
  },
  {
   "cell_type": "code",
   "execution_count": 49,
   "id": "fb8f584b",
   "metadata": {},
   "outputs": [
    {
     "name": "stdout",
     "output_type": "stream",
     "text": [
      "125\n"
     ]
    }
   ],
   "source": [
    "#How many countries_long are there with name Republic\n",
    "\n",
    "count = 0\n",
    "def counting(txt):\n",
    "    global count \n",
    "    if 'republic' in txt.lower():\n",
    "        count+=1\n",
    "    return txt\n",
    "\n",
    "df['country_long'] = df['country_long'].apply(counting)\n",
    "print(count)"
   ]
  },
  {
   "cell_type": "code",
   "execution_count": 51,
   "id": "ffbc4a40",
   "metadata": {},
   "outputs": [],
   "source": [
    "#Which country in africa has highest population\n",
    "\n",
    "africa_df = df[df['continent'] == 'Africa']"
   ]
  },
  {
   "cell_type": "code",
   "execution_count": 54,
   "id": "6634796b",
   "metadata": {},
   "outputs": [
    {
     "data": {
      "text/html": [
       "<div>\n",
       "<style scoped>\n",
       "    .dataframe tbody tr th:only-of-type {\n",
       "        vertical-align: middle;\n",
       "    }\n",
       "\n",
       "    .dataframe tbody tr th {\n",
       "        vertical-align: top;\n",
       "    }\n",
       "\n",
       "    .dataframe thead th {\n",
       "        text-align: right;\n",
       "    }\n",
       "</style>\n",
       "<table border=\"1\" class=\"dataframe\">\n",
       "  <thead>\n",
       "    <tr style=\"text-align: right;\">\n",
       "      <th></th>\n",
       "      <th>country</th>\n",
       "      <th>country_long</th>\n",
       "      <th>currency</th>\n",
       "      <th>capital_city</th>\n",
       "      <th>region</th>\n",
       "      <th>continent</th>\n",
       "      <th>demonym</th>\n",
       "      <th>latitude</th>\n",
       "      <th>longitude</th>\n",
       "      <th>agricultural_land</th>\n",
       "      <th>...</th>\n",
       "      <th>population</th>\n",
       "      <th>women_parliament_seats_pct</th>\n",
       "      <th>rural_population</th>\n",
       "      <th>urban_population</th>\n",
       "      <th>press</th>\n",
       "      <th>democracy_score</th>\n",
       "      <th>democracy_type</th>\n",
       "      <th>median_age</th>\n",
       "      <th>political_leader</th>\n",
       "      <th>title</th>\n",
       "    </tr>\n",
       "  </thead>\n",
       "  <tbody>\n",
       "    <tr>\n",
       "      <th>108</th>\n",
       "      <td>Mauritius</td>\n",
       "      <td>Republic of Mauritius</td>\n",
       "      <td>Mauritian rupee</td>\n",
       "      <td>Port Louis</td>\n",
       "      <td>Eastern Africa</td>\n",
       "      <td>Africa</td>\n",
       "      <td>Mauritian</td>\n",
       "      <td>-20.283333</td>\n",
       "      <td>57.55</td>\n",
       "      <td>860.0</td>\n",
       "      <td>...</td>\n",
       "      <td>1262523</td>\n",
       "      <td>20.0000</td>\n",
       "      <td>747287</td>\n",
       "      <td>515236</td>\n",
       "      <td>2.75</td>\n",
       "      <td>8.22</td>\n",
       "      <td>Full democracy</td>\n",
       "      <td>33.1</td>\n",
       "      <td>Pravind Jugnauth</td>\n",
       "      <td>Prime Minister</td>\n",
       "    </tr>\n",
       "    <tr>\n",
       "      <th>27</th>\n",
       "      <td>Cabo Verde</td>\n",
       "      <td>Republic of Cabo Verde</td>\n",
       "      <td>Cabo Verde escudo</td>\n",
       "      <td>Praia</td>\n",
       "      <td>Western Africa</td>\n",
       "      <td>Africa</td>\n",
       "      <td>Cape Verdian</td>\n",
       "      <td>16.000000</td>\n",
       "      <td>-24.00</td>\n",
       "      <td>790.0</td>\n",
       "      <td>...</td>\n",
       "      <td>593149</td>\n",
       "      <td>38.8889</td>\n",
       "      <td>192507</td>\n",
       "      <td>400642</td>\n",
       "      <td>3.95</td>\n",
       "      <td>7.88</td>\n",
       "      <td>Flawed democracy</td>\n",
       "      <td>22.9</td>\n",
       "      <td>NaN</td>\n",
       "      <td>NaN</td>\n",
       "    </tr>\n",
       "    <tr>\n",
       "      <th>21</th>\n",
       "      <td>Botswana</td>\n",
       "      <td>Republic of Botswana</td>\n",
       "      <td>Botswana pula</td>\n",
       "      <td>Gaborone</td>\n",
       "      <td>Southern Africa</td>\n",
       "      <td>Africa</td>\n",
       "      <td>Motswana</td>\n",
       "      <td>-22.000000</td>\n",
       "      <td>24.00</td>\n",
       "      <td>258620.0</td>\n",
       "      <td>...</td>\n",
       "      <td>2630296</td>\n",
       "      <td>11.1111</td>\n",
       "      <td>730591</td>\n",
       "      <td>1899705</td>\n",
       "      <td>3.12</td>\n",
       "      <td>7.81</td>\n",
       "      <td>Flawed democracy</td>\n",
       "      <td>19.7</td>\n",
       "      <td>Mokgweetsi Masisi</td>\n",
       "      <td>President</td>\n",
       "    </tr>\n",
       "    <tr>\n",
       "      <th>155</th>\n",
       "      <td>South Africa</td>\n",
       "      <td>Republic of South Africa</td>\n",
       "      <td>South African rand</td>\n",
       "      <td>Pretoria</td>\n",
       "      <td>Southern Africa</td>\n",
       "      <td>Africa</td>\n",
       "      <td>South African</td>\n",
       "      <td>-29.000000</td>\n",
       "      <td>24.00</td>\n",
       "      <td>963410.0</td>\n",
       "      <td>...</td>\n",
       "      <td>59893885</td>\n",
       "      <td>46.5000</td>\n",
       "      <td>18965399</td>\n",
       "      <td>40928486</td>\n",
       "      <td>3.52</td>\n",
       "      <td>7.24</td>\n",
       "      <td>Flawed democracy</td>\n",
       "      <td>23.3</td>\n",
       "      <td>Cyril Ramaphosa</td>\n",
       "      <td>President</td>\n",
       "    </tr>\n",
       "    <tr>\n",
       "      <th>94</th>\n",
       "      <td>Lesotho</td>\n",
       "      <td>Kingdom of Lesotho</td>\n",
       "      <td>Lesotho loti</td>\n",
       "      <td>Maseru</td>\n",
       "      <td>Southern Africa</td>\n",
       "      <td>Africa</td>\n",
       "      <td>Mosotho</td>\n",
       "      <td>-29.500000</td>\n",
       "      <td>28.50</td>\n",
       "      <td>26000.0</td>\n",
       "      <td>...</td>\n",
       "      <td>2305825</td>\n",
       "      <td>26.4463</td>\n",
       "      <td>1615392</td>\n",
       "      <td>690433</td>\n",
       "      <td>2.63</td>\n",
       "      <td>6.64</td>\n",
       "      <td>Flawed democracy</td>\n",
       "      <td>18.2</td>\n",
       "      <td>Tom Thabane</td>\n",
       "      <td>Prime Minister</td>\n",
       "    </tr>\n",
       "  </tbody>\n",
       "</table>\n",
       "<p>5 rows × 64 columns</p>\n",
       "</div>"
      ],
      "text/plain": [
       "          country              country_long            currency capital_city  \\\n",
       "108     Mauritius     Republic of Mauritius     Mauritian rupee   Port Louis   \n",
       "27     Cabo Verde    Republic of Cabo Verde   Cabo Verde escudo        Praia   \n",
       "21       Botswana      Republic of Botswana       Botswana pula     Gaborone   \n",
       "155  South Africa  Republic of South Africa  South African rand     Pretoria   \n",
       "94        Lesotho        Kingdom of Lesotho        Lesotho loti       Maseru   \n",
       "\n",
       "              region continent        demonym   latitude  longitude  \\\n",
       "108   Eastern Africa    Africa      Mauritian -20.283333      57.55   \n",
       "27    Western Africa    Africa   Cape Verdian  16.000000     -24.00   \n",
       "21   Southern Africa    Africa       Motswana -22.000000      24.00   \n",
       "155  Southern Africa    Africa  South African -29.000000      24.00   \n",
       "94   Southern Africa    Africa        Mosotho -29.500000      28.50   \n",
       "\n",
       "     agricultural_land  ...  population  women_parliament_seats_pct  \\\n",
       "108              860.0  ...     1262523                     20.0000   \n",
       "27               790.0  ...      593149                     38.8889   \n",
       "21            258620.0  ...     2630296                     11.1111   \n",
       "155           963410.0  ...    59893885                     46.5000   \n",
       "94             26000.0  ...     2305825                     26.4463   \n",
       "\n",
       "     rural_population  urban_population  press  democracy_score  \\\n",
       "108            747287            515236   2.75             8.22   \n",
       "27             192507            400642   3.95             7.88   \n",
       "21             730591           1899705   3.12             7.81   \n",
       "155          18965399          40928486   3.52             7.24   \n",
       "94            1615392            690433   2.63             6.64   \n",
       "\n",
       "       democracy_type  median_age   political_leader           title  \n",
       "108    Full democracy        33.1   Pravind Jugnauth  Prime Minister  \n",
       "27   Flawed democracy        22.9                NaN             NaN  \n",
       "21   Flawed democracy        19.7  Mokgweetsi Masisi       President  \n",
       "155  Flawed democracy        23.3    Cyril Ramaphosa       President  \n",
       "94   Flawed democracy        18.2        Tom Thabane  Prime Minister  \n",
       "\n",
       "[5 rows x 64 columns]"
      ]
     },
     "execution_count": 54,
     "metadata": {},
     "output_type": "execute_result"
    }
   ],
   "source": [
    "africa_df.head()"
   ]
  },
  {
   "cell_type": "code",
   "execution_count": 57,
   "id": "28201582",
   "metadata": {},
   "outputs": [
    {
     "data": {
      "text/plain": [
       "125    Nigeria\n",
       "Name: country, dtype: object"
      ]
     },
     "execution_count": 57,
     "metadata": {},
     "output_type": "execute_result"
    }
   ],
   "source": [
    "africa_df[africa_df['population'] == africa_df['population'].max()]['country']"
   ]
  },
  {
   "cell_type": "code",
   "execution_count": null,
   "id": "803546f8",
   "metadata": {},
   "outputs": [],
   "source": []
  }
 ],
 "metadata": {
  "kernelspec": {
   "display_name": "base",
   "language": "python",
   "name": "python3"
  },
  "language_info": {
   "codemirror_mode": {
    "name": "ipython",
    "version": 3
   },
   "file_extension": ".py",
   "mimetype": "text/x-python",
   "name": "python",
   "nbconvert_exporter": "python",
   "pygments_lexer": "ipython3",
   "version": "3.11.7"
  }
 },
 "nbformat": 4,
 "nbformat_minor": 5
}
